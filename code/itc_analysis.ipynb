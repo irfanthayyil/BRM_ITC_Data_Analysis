{
 "cells": [
  {
   "cell_type": "code",
   "execution_count": 84,
   "metadata": {},
   "outputs": [],
   "source": [
    "import pandas as pd \n",
    "import numpy as np\n",
    "import matplotlib.pyplot as plt\n",
    "import seaborn as sns\n",
    "import plotly.express as px\n"
   ]
  },
  {
   "cell_type": "markdown",
   "metadata": {},
   "source": [
    "### Factor Analysis"
   ]
  },
  {
   "cell_type": "code",
   "execution_count": 85,
   "metadata": {},
   "outputs": [],
   "source": [
    "data = pd.read_excel('../data/survey.xlsx')"
   ]
  },
  {
   "cell_type": "code",
   "execution_count": 86,
   "metadata": {},
   "outputs": [
    {
     "data": {
      "text/html": [
       "<div>\n",
       "<style scoped>\n",
       "    .dataframe tbody tr th:only-of-type {\n",
       "        vertical-align: middle;\n",
       "    }\n",
       "\n",
       "    .dataframe tbody tr th {\n",
       "        vertical-align: top;\n",
       "    }\n",
       "\n",
       "    .dataframe thead th {\n",
       "        text-align: right;\n",
       "    }\n",
       "</style>\n",
       "<table border=\"1\" class=\"dataframe\">\n",
       "  <thead>\n",
       "    <tr style=\"text-align: right;\">\n",
       "      <th></th>\n",
       "      <th>Timestamp</th>\n",
       "      <th>What is your age group?</th>\n",
       "      <th>What is your gender?</th>\n",
       "      <th>What is your primary occupation?</th>\n",
       "      <th>What is your monthly household income (INR)?</th>\n",
       "      <th>Which best describes your area of residence?</th>\n",
       "      <th>How often do you consume roti?</th>\n",
       "      <th>What are your primary sources of protein? (Select all that apply)</th>\n",
       "      <th>How do you usually prepare or purchase roti? (Select all that apply)</th>\n",
       "      <th>Have you ever purchased ready-to-cook or packaged rotis?</th>\n",
       "      <th>...</th>\n",
       "      <th>How likely are you to rely on online reviews/influencers or digital recommendations when choosing a new food product?</th>\n",
       "      <th>Would you be interested in trying a small sample or trial pack of a protein-enhanced ready-to-cook roti?</th>\n",
       "      <th>If you are willing to try such a product, what would be your ideal pack size?</th>\n",
       "      <th>We’d love to hear your thoughts! Any additional comments or suggestions about protein-enhanced rotis?\\nYou can also contact us at :  t3b4grp@iima.ac.in</th>\n",
       "      <th>How frequently do you go to the gym or engage in regular exercise?</th>\n",
       "      <th>How sensitive are you to the shelf life of packaged food products?</th>\n",
       "      <th>How important is the shelf life of packaged food products for you?</th>\n",
       "      <th>How sensitive are you to preservatives in packaged food?</th>\n",
       "      <th>Do you prefer longer shelf life for packaged foods?</th>\n",
       "      <th>Column 34</th>\n",
       "    </tr>\n",
       "  </thead>\n",
       "  <tbody>\n",
       "    <tr>\n",
       "      <th>0</th>\n",
       "      <td>2025-02-17 20:22:54.167</td>\n",
       "      <td>25–34</td>\n",
       "      <td>Male</td>\n",
       "      <td>Student</td>\n",
       "      <td>More than 1,00,000</td>\n",
       "      <td>Urban</td>\n",
       "      <td>Daily</td>\n",
       "      <td>Dairy (Milk, Paneer, Yogurt), Eggs</td>\n",
       "      <td>Make it fresh at home</td>\n",
       "      <td>No</td>\n",
       "      <td>...</td>\n",
       "      <td>2</td>\n",
       "      <td>Yes</td>\n",
       "      <td>Pack of 4 rotis</td>\n",
       "      <td>NaN</td>\n",
       "      <td>NaN</td>\n",
       "      <td>NaN</td>\n",
       "      <td>NaN</td>\n",
       "      <td>NaN</td>\n",
       "      <td>NaN</td>\n",
       "      <td>NaN</td>\n",
       "    </tr>\n",
       "    <tr>\n",
       "      <th>1</th>\n",
       "      <td>2025-02-17 20:33:28.951</td>\n",
       "      <td>18–24</td>\n",
       "      <td>Male</td>\n",
       "      <td>Student</td>\n",
       "      <td>Prefer not to say</td>\n",
       "      <td>Urban</td>\n",
       "      <td>Daily</td>\n",
       "      <td>Dairy (Milk, Paneer, Yogurt), Lentils &amp; Pulses...</td>\n",
       "      <td>Make it fresh at home</td>\n",
       "      <td>No</td>\n",
       "      <td>...</td>\n",
       "      <td>1</td>\n",
       "      <td>No</td>\n",
       "      <td>Pack of 4 rotis</td>\n",
       "      <td>NaN</td>\n",
       "      <td>NaN</td>\n",
       "      <td>NaN</td>\n",
       "      <td>NaN</td>\n",
       "      <td>NaN</td>\n",
       "      <td>NaN</td>\n",
       "      <td>NaN</td>\n",
       "    </tr>\n",
       "    <tr>\n",
       "      <th>2</th>\n",
       "      <td>2025-02-17 20:51:11.003</td>\n",
       "      <td>25–34</td>\n",
       "      <td>Male</td>\n",
       "      <td>Working professional</td>\n",
       "      <td>More than 1,00,000</td>\n",
       "      <td>Urban</td>\n",
       "      <td>Daily</td>\n",
       "      <td>Dairy (Milk, Paneer, Yogurt), Lentils &amp; Pulses</td>\n",
       "      <td>Make it fresh at home</td>\n",
       "      <td>No</td>\n",
       "      <td>...</td>\n",
       "      <td>4</td>\n",
       "      <td>No</td>\n",
       "      <td>NaN</td>\n",
       "      <td>NaN</td>\n",
       "      <td>NaN</td>\n",
       "      <td>NaN</td>\n",
       "      <td>NaN</td>\n",
       "      <td>NaN</td>\n",
       "      <td>NaN</td>\n",
       "      <td>NaN</td>\n",
       "    </tr>\n",
       "    <tr>\n",
       "      <th>3</th>\n",
       "      <td>2025-02-17 20:57:32.880</td>\n",
       "      <td>25–34</td>\n",
       "      <td>Male</td>\n",
       "      <td>Student</td>\n",
       "      <td>50,000-1,00,000</td>\n",
       "      <td>Urban</td>\n",
       "      <td>2–3 times a week 3</td>\n",
       "      <td>Eggs, Meat &amp; Poultry, Protein Bars/Supplements</td>\n",
       "      <td>Make it fresh at home, Buy ready-to-eat packag...</td>\n",
       "      <td>Yes</td>\n",
       "      <td>...</td>\n",
       "      <td>3</td>\n",
       "      <td>Yes</td>\n",
       "      <td>Pack of 6 rotis</td>\n",
       "      <td>NaN</td>\n",
       "      <td>NaN</td>\n",
       "      <td>NaN</td>\n",
       "      <td>NaN</td>\n",
       "      <td>NaN</td>\n",
       "      <td>NaN</td>\n",
       "      <td>NaN</td>\n",
       "    </tr>\n",
       "    <tr>\n",
       "      <th>4</th>\n",
       "      <td>2025-02-17 21:55:58.597</td>\n",
       "      <td>25–34</td>\n",
       "      <td>Male</td>\n",
       "      <td>Student</td>\n",
       "      <td>Prefer not to say</td>\n",
       "      <td>Semi-urban</td>\n",
       "      <td>4–6 times a week</td>\n",
       "      <td>Eggs, Meat &amp; Poultry</td>\n",
       "      <td>Buy from a restaurant</td>\n",
       "      <td>Yes</td>\n",
       "      <td>...</td>\n",
       "      <td>5</td>\n",
       "      <td>Yes</td>\n",
       "      <td>Pack of 4 rotis</td>\n",
       "      <td>NaN</td>\n",
       "      <td>Once a week</td>\n",
       "      <td>I prefer products with a longer shelf life but...</td>\n",
       "      <td>NaN</td>\n",
       "      <td>NaN</td>\n",
       "      <td>NaN</td>\n",
       "      <td>NaN</td>\n",
       "    </tr>\n",
       "  </tbody>\n",
       "</table>\n",
       "<p>5 rows × 37 columns</p>\n",
       "</div>"
      ],
      "text/plain": [
       "                Timestamp What is your age group? What is your gender?    \\\n",
       "0 2025-02-17 20:22:54.167                   25–34                   Male   \n",
       "1 2025-02-17 20:33:28.951                   18–24                   Male   \n",
       "2 2025-02-17 20:51:11.003                   25–34                   Male   \n",
       "3 2025-02-17 20:57:32.880                   25–34                   Male   \n",
       "4 2025-02-17 21:55:58.597                   25–34                   Male   \n",
       "\n",
       "  What is your primary occupation?  \\\n",
       "0                          Student   \n",
       "1                          Student   \n",
       "2             Working professional   \n",
       "3                          Student   \n",
       "4                          Student   \n",
       "\n",
       "  What is your monthly household income (INR)?  \\\n",
       "0                           More than 1,00,000   \n",
       "1                            Prefer not to say   \n",
       "2                           More than 1,00,000   \n",
       "3                              50,000-1,00,000   \n",
       "4                            Prefer not to say   \n",
       "\n",
       "    Which best describes your area of residence?    \\\n",
       "0                                            Urban   \n",
       "1                                            Urban   \n",
       "2                                            Urban   \n",
       "3                                            Urban   \n",
       "4                                       Semi-urban   \n",
       "\n",
       "  How often do you consume roti?  \\\n",
       "0                          Daily   \n",
       "1                          Daily   \n",
       "2                          Daily   \n",
       "3             2–3 times a week 3   \n",
       "4               4–6 times a week   \n",
       "\n",
       "  What are your primary sources of protein? (Select all that apply)  \\\n",
       "0                 Dairy (Milk, Paneer, Yogurt), Eggs                  \n",
       "1  Dairy (Milk, Paneer, Yogurt), Lentils & Pulses...                  \n",
       "2     Dairy (Milk, Paneer, Yogurt), Lentils & Pulses                  \n",
       "3     Eggs, Meat & Poultry, Protein Bars/Supplements                  \n",
       "4                               Eggs, Meat & Poultry                  \n",
       "\n",
       "  How do you usually prepare or purchase roti? (Select all that apply)  \\\n",
       "0                              Make it fresh at home                     \n",
       "1                              Make it fresh at home                     \n",
       "2                              Make it fresh at home                     \n",
       "3  Make it fresh at home, Buy ready-to-eat packag...                     \n",
       "4                              Buy from a restaurant                     \n",
       "\n",
       "  Have you ever purchased ready-to-cook or packaged rotis?  ...  \\\n",
       "0                                                 No        ...   \n",
       "1                                                 No        ...   \n",
       "2                                                 No        ...   \n",
       "3                                                Yes        ...   \n",
       "4                                                Yes        ...   \n",
       "\n",
       "  How likely are you to rely on online reviews/influencers or digital recommendations when choosing a new food product?  \\\n",
       "0                                                  2                                                                      \n",
       "1                                                  1                                                                      \n",
       "2                                                  4                                                                      \n",
       "3                                                  3                                                                      \n",
       "4                                                  5                                                                      \n",
       "\n",
       "  Would you be interested in trying a small sample or trial pack of a protein-enhanced ready-to-cook roti?  \\\n",
       "0                                                Yes                                                         \n",
       "1                                                 No                                                         \n",
       "2                                                 No                                                         \n",
       "3                                                Yes                                                         \n",
       "4                                                Yes                                                         \n",
       "\n",
       "  If you are willing to try such a product, what would be your ideal pack size?  \\\n",
       "0                                    Pack of 4 rotis                              \n",
       "1                                    Pack of 4 rotis                              \n",
       "2                                                NaN                              \n",
       "3                                    Pack of 6 rotis                              \n",
       "4                                    Pack of 4 rotis                              \n",
       "\n",
       "  We’d love to hear your thoughts! Any additional comments or suggestions about protein-enhanced rotis?\\nYou can also contact us at :  t3b4grp@iima.ac.in  \\\n",
       "0                                                NaN                                                                                                        \n",
       "1                                                NaN                                                                                                        \n",
       "2                                                NaN                                                                                                        \n",
       "3                                                NaN                                                                                                        \n",
       "4                                                NaN                                                                                                        \n",
       "\n",
       "  How frequently do you go to the gym or engage in regular exercise?  \\\n",
       "0                                                NaN                   \n",
       "1                                                NaN                   \n",
       "2                                                NaN                   \n",
       "3                                                NaN                   \n",
       "4                                        Once a week                   \n",
       "\n",
       "  How sensitive are you to the shelf life of packaged food products?  \\\n",
       "0                                                NaN                   \n",
       "1                                                NaN                   \n",
       "2                                                NaN                   \n",
       "3                                                NaN                   \n",
       "4  I prefer products with a longer shelf life but...                   \n",
       "\n",
       "  How important is the shelf life of packaged food products for you?  \\\n",
       "0                                                NaN                   \n",
       "1                                                NaN                   \n",
       "2                                                NaN                   \n",
       "3                                                NaN                   \n",
       "4                                                NaN                   \n",
       "\n",
       "  How sensitive are you to preservatives in packaged food?  \\\n",
       "0                                                NaN         \n",
       "1                                                NaN         \n",
       "2                                                NaN         \n",
       "3                                                NaN         \n",
       "4                                                NaN         \n",
       "\n",
       "  Do you prefer longer shelf life for packaged foods? Column 34  \n",
       "0                                                NaN        NaN  \n",
       "1                                                NaN        NaN  \n",
       "2                                                NaN        NaN  \n",
       "3                                                NaN        NaN  \n",
       "4                                                NaN        NaN  \n",
       "\n",
       "[5 rows x 37 columns]"
      ]
     },
     "execution_count": 86,
     "metadata": {},
     "output_type": "execute_result"
    }
   ],
   "source": [
    "data.head()"
   ]
  },
  {
   "cell_type": "code",
   "execution_count": 87,
   "metadata": {},
   "outputs": [
    {
     "data": {
      "text/plain": [
       "13"
      ]
     },
     "execution_count": 87,
     "metadata": {},
     "output_type": "execute_result"
    }
   ],
   "source": [
    "list(data.columns).index('Please rate the importance of the following factors when you may purchase a ready-to-cook roti.\\n(For each attribute, use a scale where 1 = Not important, 5 = Very important)   [Taste & Texture]')"
   ]
  },
  {
   "cell_type": "code",
   "execution_count": 88,
   "metadata": {},
   "outputs": [
    {
     "data": {
      "text/plain": [
       "['Please rate the importance of the following factors when you may purchase a ready-to-cook roti.\\n(For each attribute, use a scale where 1 = Not important, 5 = Very important)   [Taste & Texture]',\n",
       " 'Please rate the importance of the following factors when you may purchase a ready-to-cook roti.\\n(For each attribute, use a scale where 1 = Not important, 5 = Very important)   [Nutritional value (including protein content)]',\n",
       " 'Please rate the importance of the following factors when you may purchase a ready-to-cook roti.\\n(For each attribute, use a scale where 1 = Not important, 5 = Very important)   [Shelf-life]',\n",
       " 'Please rate the importance of the following factors when you may purchase a ready-to-cook roti.\\n(For each attribute, use a scale where 1 = Not important, 5 = Very important)   [Price]',\n",
       " 'Please rate the importance of the following factors when you may purchase a ready-to-cook roti.\\n(For each attribute, use a scale where 1 = Not important, 5 = Very important)   [Packaging design]',\n",
       " 'Please rate the importance of the following factors when you may purchase a ready-to-cook roti.\\n(For each attribute, use a scale where 1 = Not important, 5 = Very important)   [Brand trust]']"
      ]
     },
     "execution_count": 88,
     "metadata": {},
     "output_type": "execute_result"
    }
   ],
   "source": [
    "list(data[::].columns[13:19])"
   ]
  },
  {
   "cell_type": "code",
   "execution_count": 89,
   "metadata": {},
   "outputs": [
    {
     "data": {
      "text/html": [
       "<div>\n",
       "<style scoped>\n",
       "    .dataframe tbody tr th:only-of-type {\n",
       "        vertical-align: middle;\n",
       "    }\n",
       "\n",
       "    .dataframe tbody tr th {\n",
       "        vertical-align: top;\n",
       "    }\n",
       "\n",
       "    .dataframe thead th {\n",
       "        text-align: right;\n",
       "    }\n",
       "</style>\n",
       "<table border=\"1\" class=\"dataframe\">\n",
       "  <thead>\n",
       "    <tr style=\"text-align: right;\">\n",
       "      <th></th>\n",
       "      <th>Please rate the importance of the following factors when you may purchase a ready-to-cook roti.\\n(For each attribute, use a scale where 1 = Not important, 5 = Very important)   [Taste &amp; Texture]</th>\n",
       "      <th>Please rate the importance of the following factors when you may purchase a ready-to-cook roti.\\n(For each attribute, use a scale where 1 = Not important, 5 = Very important)   [Nutritional value (including protein content)]</th>\n",
       "      <th>Please rate the importance of the following factors when you may purchase a ready-to-cook roti.\\n(For each attribute, use a scale where 1 = Not important, 5 = Very important)   [Shelf-life]</th>\n",
       "      <th>Please rate the importance of the following factors when you may purchase a ready-to-cook roti.\\n(For each attribute, use a scale where 1 = Not important, 5 = Very important)   [Price]</th>\n",
       "      <th>Please rate the importance of the following factors when you may purchase a ready-to-cook roti.\\n(For each attribute, use a scale where 1 = Not important, 5 = Very important)   [Packaging design]</th>\n",
       "      <th>Please rate the importance of the following factors when you may purchase a ready-to-cook roti.\\n(For each attribute, use a scale where 1 = Not important, 5 = Very important)   [Brand trust]</th>\n",
       "      <th>Please rate the importance of the following factors when you may purchase a ready-to-cook roti.\\n(For each attribute, use a scale where 1 = Not important, 5 = Very important)   [Convenience]</th>\n",
       "    </tr>\n",
       "  </thead>\n",
       "  <tbody>\n",
       "    <tr>\n",
       "      <th>0</th>\n",
       "      <td>Somewhat Important</td>\n",
       "      <td>Neutral</td>\n",
       "      <td>Somewhat Important</td>\n",
       "      <td>Neutral</td>\n",
       "      <td>Not important</td>\n",
       "      <td>Less Important</td>\n",
       "      <td>Somewhat Important</td>\n",
       "    </tr>\n",
       "    <tr>\n",
       "      <th>1</th>\n",
       "      <td>Not important</td>\n",
       "      <td>Not important</td>\n",
       "      <td>Not important</td>\n",
       "      <td>Not important</td>\n",
       "      <td>Not important</td>\n",
       "      <td>Not important</td>\n",
       "      <td>Not important</td>\n",
       "    </tr>\n",
       "    <tr>\n",
       "      <th>2</th>\n",
       "      <td>NaN</td>\n",
       "      <td>Somewhat Important</td>\n",
       "      <td>Neutral</td>\n",
       "      <td>Neutral</td>\n",
       "      <td>Neutral</td>\n",
       "      <td>Somewhat Important</td>\n",
       "      <td>Somewhat Important</td>\n",
       "    </tr>\n",
       "    <tr>\n",
       "      <th>3</th>\n",
       "      <td>NaN</td>\n",
       "      <td>Very Important</td>\n",
       "      <td>Somewhat Important</td>\n",
       "      <td>Neutral</td>\n",
       "      <td>Very Important</td>\n",
       "      <td>Neutral</td>\n",
       "      <td>Neutral</td>\n",
       "    </tr>\n",
       "    <tr>\n",
       "      <th>4</th>\n",
       "      <td>NaN</td>\n",
       "      <td>Not important</td>\n",
       "      <td>Less Important</td>\n",
       "      <td>Neutral</td>\n",
       "      <td>Neutral</td>\n",
       "      <td>Neutral</td>\n",
       "      <td>Very Important</td>\n",
       "    </tr>\n",
       "    <tr>\n",
       "      <th>...</th>\n",
       "      <td>...</td>\n",
       "      <td>...</td>\n",
       "      <td>...</td>\n",
       "      <td>...</td>\n",
       "      <td>...</td>\n",
       "      <td>...</td>\n",
       "      <td>...</td>\n",
       "    </tr>\n",
       "    <tr>\n",
       "      <th>107</th>\n",
       "      <td>NaN</td>\n",
       "      <td>Very Important</td>\n",
       "      <td>Very Important</td>\n",
       "      <td>Very Important</td>\n",
       "      <td>Somewhat Important</td>\n",
       "      <td>Somewhat Important</td>\n",
       "      <td>Somewhat Important</td>\n",
       "    </tr>\n",
       "    <tr>\n",
       "      <th>108</th>\n",
       "      <td>NaN</td>\n",
       "      <td>Very Important</td>\n",
       "      <td>Somewhat Important</td>\n",
       "      <td>Neutral</td>\n",
       "      <td>Less Important</td>\n",
       "      <td>Less Important</td>\n",
       "      <td>Somewhat Important</td>\n",
       "    </tr>\n",
       "    <tr>\n",
       "      <th>109</th>\n",
       "      <td>NaN</td>\n",
       "      <td>Neutral</td>\n",
       "      <td>Somewhat Important</td>\n",
       "      <td>Somewhat Important</td>\n",
       "      <td>Less Important</td>\n",
       "      <td>Very Important</td>\n",
       "      <td>Somewhat Important</td>\n",
       "    </tr>\n",
       "    <tr>\n",
       "      <th>110</th>\n",
       "      <td>NaN</td>\n",
       "      <td>Very Important</td>\n",
       "      <td>Somewhat Important</td>\n",
       "      <td>Somewhat Important</td>\n",
       "      <td>Neutral</td>\n",
       "      <td>Somewhat Important</td>\n",
       "      <td>Somewhat Important</td>\n",
       "    </tr>\n",
       "    <tr>\n",
       "      <th>111</th>\n",
       "      <td>NaN</td>\n",
       "      <td>Less Important</td>\n",
       "      <td>Less Important</td>\n",
       "      <td>Somewhat Important</td>\n",
       "      <td>Somewhat Important</td>\n",
       "      <td>Very Important</td>\n",
       "      <td>Very Important</td>\n",
       "    </tr>\n",
       "  </tbody>\n",
       "</table>\n",
       "<p>112 rows × 7 columns</p>\n",
       "</div>"
      ],
      "text/plain": [
       "    Please rate the importance of the following factors when you may purchase a ready-to-cook roti.\\n(For each attribute, use a scale where 1 = Not important, 5 = Very important)   [Taste & Texture]  \\\n",
       "0                                   Somewhat Important                                                                                                                                                   \n",
       "1                                        Not important                                                                                                                                                   \n",
       "2                                                  NaN                                                                                                                                                   \n",
       "3                                                  NaN                                                                                                                                                   \n",
       "4                                                  NaN                                                                                                                                                   \n",
       "..                                                 ...                                                                                                                                                   \n",
       "107                                                NaN                                                                                                                                                   \n",
       "108                                                NaN                                                                                                                                                   \n",
       "109                                                NaN                                                                                                                                                   \n",
       "110                                                NaN                                                                                                                                                   \n",
       "111                                                NaN                                                                                                                                                   \n",
       "\n",
       "    Please rate the importance of the following factors when you may purchase a ready-to-cook roti.\\n(For each attribute, use a scale where 1 = Not important, 5 = Very important)   [Nutritional value (including protein content)]  \\\n",
       "0                                              Neutral                                                                                                                                                                                 \n",
       "1                                        Not important                                                                                                                                                                                 \n",
       "2                                   Somewhat Important                                                                                                                                                                                 \n",
       "3                                       Very Important                                                                                                                                                                                 \n",
       "4                                        Not important                                                                                                                                                                                 \n",
       "..                                                 ...                                                                                                                                                                                 \n",
       "107                                     Very Important                                                                                                                                                                                 \n",
       "108                                     Very Important                                                                                                                                                                                 \n",
       "109                                            Neutral                                                                                                                                                                                 \n",
       "110                                     Very Important                                                                                                                                                                                 \n",
       "111                                     Less Important                                                                                                                                                                                 \n",
       "\n",
       "    Please rate the importance of the following factors when you may purchase a ready-to-cook roti.\\n(For each attribute, use a scale where 1 = Not important, 5 = Very important)   [Shelf-life]  \\\n",
       "0                                   Somewhat Important                                                                                                                                              \n",
       "1                                        Not important                                                                                                                                              \n",
       "2                                              Neutral                                                                                                                                              \n",
       "3                                   Somewhat Important                                                                                                                                              \n",
       "4                                       Less Important                                                                                                                                              \n",
       "..                                                 ...                                                                                                                                              \n",
       "107                                     Very Important                                                                                                                                              \n",
       "108                                 Somewhat Important                                                                                                                                              \n",
       "109                                 Somewhat Important                                                                                                                                              \n",
       "110                                 Somewhat Important                                                                                                                                              \n",
       "111                                     Less Important                                                                                                                                              \n",
       "\n",
       "    Please rate the importance of the following factors when you may purchase a ready-to-cook roti.\\n(For each attribute, use a scale where 1 = Not important, 5 = Very important)   [Price]  \\\n",
       "0                                              Neutral                                                                                                                                         \n",
       "1                                        Not important                                                                                                                                         \n",
       "2                                              Neutral                                                                                                                                         \n",
       "3                                              Neutral                                                                                                                                         \n",
       "4                                              Neutral                                                                                                                                         \n",
       "..                                                 ...                                                                                                                                         \n",
       "107                                     Very Important                                                                                                                                         \n",
       "108                                            Neutral                                                                                                                                         \n",
       "109                                 Somewhat Important                                                                                                                                         \n",
       "110                                 Somewhat Important                                                                                                                                         \n",
       "111                                 Somewhat Important                                                                                                                                         \n",
       "\n",
       "    Please rate the importance of the following factors when you may purchase a ready-to-cook roti.\\n(For each attribute, use a scale where 1 = Not important, 5 = Very important)   [Packaging design]  \\\n",
       "0                                        Not important                                                                                                                                                    \n",
       "1                                        Not important                                                                                                                                                    \n",
       "2                                              Neutral                                                                                                                                                    \n",
       "3                                       Very Important                                                                                                                                                    \n",
       "4                                              Neutral                                                                                                                                                    \n",
       "..                                                 ...                                                                                                                                                    \n",
       "107                                 Somewhat Important                                                                                                                                                    \n",
       "108                                     Less Important                                                                                                                                                    \n",
       "109                                     Less Important                                                                                                                                                    \n",
       "110                                            Neutral                                                                                                                                                    \n",
       "111                                 Somewhat Important                                                                                                                                                    \n",
       "\n",
       "    Please rate the importance of the following factors when you may purchase a ready-to-cook roti.\\n(For each attribute, use a scale where 1 = Not important, 5 = Very important)   [Brand trust]  \\\n",
       "0                                       Less Important                                                                                                                                               \n",
       "1                                        Not important                                                                                                                                               \n",
       "2                                   Somewhat Important                                                                                                                                               \n",
       "3                                              Neutral                                                                                                                                               \n",
       "4                                              Neutral                                                                                                                                               \n",
       "..                                                 ...                                                                                                                                               \n",
       "107                                 Somewhat Important                                                                                                                                               \n",
       "108                                     Less Important                                                                                                                                               \n",
       "109                                     Very Important                                                                                                                                               \n",
       "110                                 Somewhat Important                                                                                                                                               \n",
       "111                                     Very Important                                                                                                                                               \n",
       "\n",
       "    Please rate the importance of the following factors when you may purchase a ready-to-cook roti.\\n(For each attribute, use a scale where 1 = Not important, 5 = Very important)   [Convenience]  \n",
       "0                                   Somewhat Important                                                                                                                                              \n",
       "1                                        Not important                                                                                                                                              \n",
       "2                                   Somewhat Important                                                                                                                                              \n",
       "3                                              Neutral                                                                                                                                              \n",
       "4                                       Very Important                                                                                                                                              \n",
       "..                                                 ...                                                                                                                                              \n",
       "107                                 Somewhat Important                                                                                                                                              \n",
       "108                                 Somewhat Important                                                                                                                                              \n",
       "109                                 Somewhat Important                                                                                                                                              \n",
       "110                                 Somewhat Important                                                                                                                                              \n",
       "111                                     Very Important                                                                                                                                              \n",
       "\n",
       "[112 rows x 7 columns]"
      ]
     },
     "execution_count": 89,
     "metadata": {},
     "output_type": "execute_result"
    }
   ],
   "source": [
    "data.iloc[:, 13:20]"
   ]
  },
  {
   "cell_type": "code",
   "execution_count": 90,
   "metadata": {},
   "outputs": [],
   "source": [
    "df = data.iloc[:, 14:20]\n",
    "df.rename(columns = dict(zip(list(data[::].columns[14:20]), ['Nutritional value', 'Shelf-life', 'Price', 'Packaging design',\n",
    "       'Brand trust', 'Convenience'])) , inplace = True)"
   ]
  },
  {
   "cell_type": "code",
   "execution_count": 91,
   "metadata": {},
   "outputs": [
    {
     "data": {
      "text/html": [
       "<div>\n",
       "<style scoped>\n",
       "    .dataframe tbody tr th:only-of-type {\n",
       "        vertical-align: middle;\n",
       "    }\n",
       "\n",
       "    .dataframe tbody tr th {\n",
       "        vertical-align: top;\n",
       "    }\n",
       "\n",
       "    .dataframe thead th {\n",
       "        text-align: right;\n",
       "    }\n",
       "</style>\n",
       "<table border=\"1\" class=\"dataframe\">\n",
       "  <thead>\n",
       "    <tr style=\"text-align: right;\">\n",
       "      <th></th>\n",
       "      <th>Nutritional value</th>\n",
       "      <th>Shelf-life</th>\n",
       "      <th>Price</th>\n",
       "      <th>Packaging design</th>\n",
       "      <th>Brand trust</th>\n",
       "      <th>Convenience</th>\n",
       "    </tr>\n",
       "  </thead>\n",
       "  <tbody>\n",
       "    <tr>\n",
       "      <th>0</th>\n",
       "      <td>Neutral</td>\n",
       "      <td>Somewhat Important</td>\n",
       "      <td>Neutral</td>\n",
       "      <td>Not important</td>\n",
       "      <td>Less Important</td>\n",
       "      <td>Somewhat Important</td>\n",
       "    </tr>\n",
       "    <tr>\n",
       "      <th>1</th>\n",
       "      <td>Not important</td>\n",
       "      <td>Not important</td>\n",
       "      <td>Not important</td>\n",
       "      <td>Not important</td>\n",
       "      <td>Not important</td>\n",
       "      <td>Not important</td>\n",
       "    </tr>\n",
       "    <tr>\n",
       "      <th>2</th>\n",
       "      <td>Somewhat Important</td>\n",
       "      <td>Neutral</td>\n",
       "      <td>Neutral</td>\n",
       "      <td>Neutral</td>\n",
       "      <td>Somewhat Important</td>\n",
       "      <td>Somewhat Important</td>\n",
       "    </tr>\n",
       "    <tr>\n",
       "      <th>3</th>\n",
       "      <td>Very Important</td>\n",
       "      <td>Somewhat Important</td>\n",
       "      <td>Neutral</td>\n",
       "      <td>Very Important</td>\n",
       "      <td>Neutral</td>\n",
       "      <td>Neutral</td>\n",
       "    </tr>\n",
       "    <tr>\n",
       "      <th>4</th>\n",
       "      <td>Not important</td>\n",
       "      <td>Less Important</td>\n",
       "      <td>Neutral</td>\n",
       "      <td>Neutral</td>\n",
       "      <td>Neutral</td>\n",
       "      <td>Very Important</td>\n",
       "    </tr>\n",
       "  </tbody>\n",
       "</table>\n",
       "</div>"
      ],
      "text/plain": [
       "    Nutritional value          Shelf-life          Price Packaging design  \\\n",
       "0             Neutral  Somewhat Important        Neutral    Not important   \n",
       "1       Not important       Not important  Not important    Not important   \n",
       "2  Somewhat Important             Neutral        Neutral          Neutral   \n",
       "3      Very Important  Somewhat Important        Neutral   Very Important   \n",
       "4       Not important      Less Important        Neutral          Neutral   \n",
       "\n",
       "          Brand trust         Convenience  \n",
       "0      Less Important  Somewhat Important  \n",
       "1       Not important       Not important  \n",
       "2  Somewhat Important  Somewhat Important  \n",
       "3             Neutral             Neutral  \n",
       "4             Neutral      Very Important  "
      ]
     },
     "execution_count": 91,
     "metadata": {},
     "output_type": "execute_result"
    }
   ],
   "source": [
    "df.head()"
   ]
  },
  {
   "cell_type": "code",
   "execution_count": 92,
   "metadata": {},
   "outputs": [
    {
     "data": {
      "text/plain": [
       "112"
      ]
     },
     "execution_count": 92,
     "metadata": {},
     "output_type": "execute_result"
    }
   ],
   "source": [
    "len(df)"
   ]
  },
  {
   "cell_type": "code",
   "execution_count": 93,
   "metadata": {},
   "outputs": [],
   "source": [
    "# # Load the data\n",
    "# df = pd.read_excel('../data/factor_data.xlsx')\n",
    "# df = df.dropna()    \n",
    "# len(df)"
   ]
  },
  {
   "cell_type": "code",
   "execution_count": 94,
   "metadata": {},
   "outputs": [],
   "source": [
    "# df.columns"
   ]
  },
  {
   "cell_type": "code",
   "execution_count": 95,
   "metadata": {},
   "outputs": [
    {
     "data": {
      "text/html": [
       "<div>\n",
       "<style scoped>\n",
       "    .dataframe tbody tr th:only-of-type {\n",
       "        vertical-align: middle;\n",
       "    }\n",
       "\n",
       "    .dataframe tbody tr th {\n",
       "        vertical-align: top;\n",
       "    }\n",
       "\n",
       "    .dataframe thead th {\n",
       "        text-align: right;\n",
       "    }\n",
       "</style>\n",
       "<table border=\"1\" class=\"dataframe\">\n",
       "  <thead>\n",
       "    <tr style=\"text-align: right;\">\n",
       "      <th></th>\n",
       "      <th>Nutritional value</th>\n",
       "      <th>Shelf-life</th>\n",
       "      <th>Price</th>\n",
       "      <th>Packaging design</th>\n",
       "      <th>Brand trust</th>\n",
       "      <th>Convenience</th>\n",
       "    </tr>\n",
       "  </thead>\n",
       "  <tbody>\n",
       "    <tr>\n",
       "      <th>0</th>\n",
       "      <td>Neutral</td>\n",
       "      <td>Somewhat Important</td>\n",
       "      <td>Neutral</td>\n",
       "      <td>Not important</td>\n",
       "      <td>Less Important</td>\n",
       "      <td>Somewhat Important</td>\n",
       "    </tr>\n",
       "    <tr>\n",
       "      <th>1</th>\n",
       "      <td>Not important</td>\n",
       "      <td>Not important</td>\n",
       "      <td>Not important</td>\n",
       "      <td>Not important</td>\n",
       "      <td>Not important</td>\n",
       "      <td>Not important</td>\n",
       "    </tr>\n",
       "    <tr>\n",
       "      <th>2</th>\n",
       "      <td>Somewhat Important</td>\n",
       "      <td>Neutral</td>\n",
       "      <td>Neutral</td>\n",
       "      <td>Neutral</td>\n",
       "      <td>Somewhat Important</td>\n",
       "      <td>Somewhat Important</td>\n",
       "    </tr>\n",
       "    <tr>\n",
       "      <th>3</th>\n",
       "      <td>Very Important</td>\n",
       "      <td>Somewhat Important</td>\n",
       "      <td>Neutral</td>\n",
       "      <td>Very Important</td>\n",
       "      <td>Neutral</td>\n",
       "      <td>Neutral</td>\n",
       "    </tr>\n",
       "    <tr>\n",
       "      <th>4</th>\n",
       "      <td>Not important</td>\n",
       "      <td>Less Important</td>\n",
       "      <td>Neutral</td>\n",
       "      <td>Neutral</td>\n",
       "      <td>Neutral</td>\n",
       "      <td>Very Important</td>\n",
       "    </tr>\n",
       "  </tbody>\n",
       "</table>\n",
       "</div>"
      ],
      "text/plain": [
       "    Nutritional value          Shelf-life          Price Packaging design  \\\n",
       "0             Neutral  Somewhat Important        Neutral    Not important   \n",
       "1       Not important       Not important  Not important    Not important   \n",
       "2  Somewhat Important             Neutral        Neutral          Neutral   \n",
       "3      Very Important  Somewhat Important        Neutral   Very Important   \n",
       "4       Not important      Less Important        Neutral          Neutral   \n",
       "\n",
       "          Brand trust         Convenience  \n",
       "0      Less Important  Somewhat Important  \n",
       "1       Not important       Not important  \n",
       "2  Somewhat Important  Somewhat Important  \n",
       "3             Neutral             Neutral  \n",
       "4             Neutral      Very Important  "
      ]
     },
     "execution_count": 95,
     "metadata": {},
     "output_type": "execute_result"
    }
   ],
   "source": [
    "df.head()"
   ]
  },
  {
   "cell_type": "code",
   "execution_count": 96,
   "metadata": {},
   "outputs": [
    {
     "name": "stderr",
     "output_type": "stream",
     "text": [
      "C:\\Users\\acer\\AppData\\Local\\Temp\\ipykernel_17260\\1701761953.py:11: FutureWarning:\n",
      "\n",
      "Downcasting behavior in `replace` is deprecated and will be removed in a future version. To retain the old behavior, explicitly call `result.infer_objects(copy=False)`. To opt-in to the future behavior, set `pd.set_option('future.no_silent_downcasting', True)`\n",
      "\n"
     ]
    },
    {
     "data": {
      "text/html": [
       "<div>\n",
       "<style scoped>\n",
       "    .dataframe tbody tr th:only-of-type {\n",
       "        vertical-align: middle;\n",
       "    }\n",
       "\n",
       "    .dataframe tbody tr th {\n",
       "        vertical-align: top;\n",
       "    }\n",
       "\n",
       "    .dataframe thead th {\n",
       "        text-align: right;\n",
       "    }\n",
       "</style>\n",
       "<table border=\"1\" class=\"dataframe\">\n",
       "  <thead>\n",
       "    <tr style=\"text-align: right;\">\n",
       "      <th></th>\n",
       "      <th>Nutritional value</th>\n",
       "      <th>Shelf-life</th>\n",
       "      <th>Price</th>\n",
       "      <th>Packaging design</th>\n",
       "      <th>Brand trust</th>\n",
       "      <th>Convenience</th>\n",
       "    </tr>\n",
       "  </thead>\n",
       "  <tbody>\n",
       "    <tr>\n",
       "      <th>0</th>\n",
       "      <td>3</td>\n",
       "      <td>4</td>\n",
       "      <td>3</td>\n",
       "      <td>1</td>\n",
       "      <td>2</td>\n",
       "      <td>4</td>\n",
       "    </tr>\n",
       "    <tr>\n",
       "      <th>1</th>\n",
       "      <td>1</td>\n",
       "      <td>1</td>\n",
       "      <td>1</td>\n",
       "      <td>1</td>\n",
       "      <td>1</td>\n",
       "      <td>1</td>\n",
       "    </tr>\n",
       "    <tr>\n",
       "      <th>2</th>\n",
       "      <td>4</td>\n",
       "      <td>3</td>\n",
       "      <td>3</td>\n",
       "      <td>3</td>\n",
       "      <td>4</td>\n",
       "      <td>4</td>\n",
       "    </tr>\n",
       "    <tr>\n",
       "      <th>3</th>\n",
       "      <td>5</td>\n",
       "      <td>4</td>\n",
       "      <td>3</td>\n",
       "      <td>5</td>\n",
       "      <td>3</td>\n",
       "      <td>3</td>\n",
       "    </tr>\n",
       "    <tr>\n",
       "      <th>4</th>\n",
       "      <td>1</td>\n",
       "      <td>2</td>\n",
       "      <td>3</td>\n",
       "      <td>3</td>\n",
       "      <td>3</td>\n",
       "      <td>5</td>\n",
       "    </tr>\n",
       "  </tbody>\n",
       "</table>\n",
       "</div>"
      ],
      "text/plain": [
       "   Nutritional value  Shelf-life  Price  Packaging design  Brand trust  \\\n",
       "0                  3           4      3                 1            2   \n",
       "1                  1           1      1                 1            1   \n",
       "2                  4           3      3                 3            4   \n",
       "3                  5           4      3                 5            3   \n",
       "4                  1           2      3                 3            3   \n",
       "\n",
       "   Convenience  \n",
       "0            4  \n",
       "1            1  \n",
       "2            4  \n",
       "3            3  \n",
       "4            5  "
      ]
     },
     "execution_count": 96,
     "metadata": {},
     "output_type": "execute_result"
    }
   ],
   "source": [
    "# Define the mapping\n",
    "mapping = {\n",
    "    'Not important': 1,\n",
    "    'Less Important': 2,\n",
    "    'Neutral': 3,\n",
    "    'Somewhat Important': 4,\n",
    "    'Very Important': 5\n",
    "}\n",
    "\n",
    "# Apply the mapping to the dataframe\n",
    "factors = df.replace(mapping)\n",
    "factors.head()"
   ]
  },
  {
   "cell_type": "code",
   "execution_count": 97,
   "metadata": {},
   "outputs": [
    {
     "data": {
      "application/vnd.plotly.v1+json": {
       "config": {
        "plotlyServerURL": "https://plot.ly"
       },
       "data": [
        {
         "coloraxis": "coloraxis",
         "hovertemplate": "x: %{x}<br>y: %{y}<br>Correlation: %{z}<extra></extra>",
         "name": "0",
         "type": "heatmap",
         "x": [
          "Nutritional value",
          "Shelf-life",
          "Price",
          "Packaging design",
          "Brand trust",
          "Convenience"
         ],
         "xaxis": "x",
         "y": [
          "Nutritional value",
          "Shelf-life",
          "Price",
          "Packaging design",
          "Brand trust",
          "Convenience"
         ],
         "yaxis": "y",
         "z": [
          [
           1,
           0.48411071981287085,
           0.33657960615198257,
           0.20967146775423928,
           0.5259567715285356,
           0.2013269188566955
          ],
          [
           0.48411071981287085,
           1,
           0.6271255718285381,
           0.2111793488643153,
           0.4975770162495782,
           0.4156715916506058
          ],
          [
           0.33657960615198257,
           0.6271255718285381,
           1,
           0.07863230636259438,
           0.5311096408717956,
           0.49272891958368786
          ],
          [
           0.20967146775423928,
           0.2111793488643153,
           0.07863230636259438,
           1,
           0.2896382270570024,
           0.17658187288242935
          ],
          [
           0.5259567715285356,
           0.4975770162495782,
           0.5311096408717956,
           0.2896382270570024,
           1,
           0.4637076800540445
          ],
          [
           0.2013269188566955,
           0.4156715916506058,
           0.49272891958368786,
           0.17658187288242935,
           0.4637076800540445,
           1
          ]
         ]
        }
       ],
       "layout": {
        "coloraxis": {
         "colorbar": {
          "title": {
           "text": "Correlation"
          }
         },
         "colorscale": [
          [
           0,
           "#440154"
          ],
          [
           0.1111111111111111,
           "#482878"
          ],
          [
           0.2222222222222222,
           "#3e4989"
          ],
          [
           0.3333333333333333,
           "#31688e"
          ],
          [
           0.4444444444444444,
           "#26828e"
          ],
          [
           0.5555555555555556,
           "#1f9e89"
          ],
          [
           0.6666666666666666,
           "#35b779"
          ],
          [
           0.7777777777777778,
           "#6ece58"
          ],
          [
           0.8888888888888888,
           "#b5de2b"
          ],
          [
           1,
           "#fde725"
          ]
         ]
        },
        "margin": {
         "t": 60
        },
        "template": {
         "data": {
          "bar": [
           {
            "error_x": {
             "color": "#2a3f5f"
            },
            "error_y": {
             "color": "#2a3f5f"
            },
            "marker": {
             "line": {
              "color": "#E5ECF6",
              "width": 0.5
             },
             "pattern": {
              "fillmode": "overlay",
              "size": 10,
              "solidity": 0.2
             }
            },
            "type": "bar"
           }
          ],
          "barpolar": [
           {
            "marker": {
             "line": {
              "color": "#E5ECF6",
              "width": 0.5
             },
             "pattern": {
              "fillmode": "overlay",
              "size": 10,
              "solidity": 0.2
             }
            },
            "type": "barpolar"
           }
          ],
          "carpet": [
           {
            "aaxis": {
             "endlinecolor": "#2a3f5f",
             "gridcolor": "white",
             "linecolor": "white",
             "minorgridcolor": "white",
             "startlinecolor": "#2a3f5f"
            },
            "baxis": {
             "endlinecolor": "#2a3f5f",
             "gridcolor": "white",
             "linecolor": "white",
             "minorgridcolor": "white",
             "startlinecolor": "#2a3f5f"
            },
            "type": "carpet"
           }
          ],
          "choropleth": [
           {
            "colorbar": {
             "outlinewidth": 0,
             "ticks": ""
            },
            "type": "choropleth"
           }
          ],
          "contour": [
           {
            "colorbar": {
             "outlinewidth": 0,
             "ticks": ""
            },
            "colorscale": [
             [
              0,
              "#0d0887"
             ],
             [
              0.1111111111111111,
              "#46039f"
             ],
             [
              0.2222222222222222,
              "#7201a8"
             ],
             [
              0.3333333333333333,
              "#9c179e"
             ],
             [
              0.4444444444444444,
              "#bd3786"
             ],
             [
              0.5555555555555556,
              "#d8576b"
             ],
             [
              0.6666666666666666,
              "#ed7953"
             ],
             [
              0.7777777777777778,
              "#fb9f3a"
             ],
             [
              0.8888888888888888,
              "#fdca26"
             ],
             [
              1,
              "#f0f921"
             ]
            ],
            "type": "contour"
           }
          ],
          "contourcarpet": [
           {
            "colorbar": {
             "outlinewidth": 0,
             "ticks": ""
            },
            "type": "contourcarpet"
           }
          ],
          "heatmap": [
           {
            "colorbar": {
             "outlinewidth": 0,
             "ticks": ""
            },
            "colorscale": [
             [
              0,
              "#0d0887"
             ],
             [
              0.1111111111111111,
              "#46039f"
             ],
             [
              0.2222222222222222,
              "#7201a8"
             ],
             [
              0.3333333333333333,
              "#9c179e"
             ],
             [
              0.4444444444444444,
              "#bd3786"
             ],
             [
              0.5555555555555556,
              "#d8576b"
             ],
             [
              0.6666666666666666,
              "#ed7953"
             ],
             [
              0.7777777777777778,
              "#fb9f3a"
             ],
             [
              0.8888888888888888,
              "#fdca26"
             ],
             [
              1,
              "#f0f921"
             ]
            ],
            "type": "heatmap"
           }
          ],
          "heatmapgl": [
           {
            "colorbar": {
             "outlinewidth": 0,
             "ticks": ""
            },
            "colorscale": [
             [
              0,
              "#0d0887"
             ],
             [
              0.1111111111111111,
              "#46039f"
             ],
             [
              0.2222222222222222,
              "#7201a8"
             ],
             [
              0.3333333333333333,
              "#9c179e"
             ],
             [
              0.4444444444444444,
              "#bd3786"
             ],
             [
              0.5555555555555556,
              "#d8576b"
             ],
             [
              0.6666666666666666,
              "#ed7953"
             ],
             [
              0.7777777777777778,
              "#fb9f3a"
             ],
             [
              0.8888888888888888,
              "#fdca26"
             ],
             [
              1,
              "#f0f921"
             ]
            ],
            "type": "heatmapgl"
           }
          ],
          "histogram": [
           {
            "marker": {
             "pattern": {
              "fillmode": "overlay",
              "size": 10,
              "solidity": 0.2
             }
            },
            "type": "histogram"
           }
          ],
          "histogram2d": [
           {
            "colorbar": {
             "outlinewidth": 0,
             "ticks": ""
            },
            "colorscale": [
             [
              0,
              "#0d0887"
             ],
             [
              0.1111111111111111,
              "#46039f"
             ],
             [
              0.2222222222222222,
              "#7201a8"
             ],
             [
              0.3333333333333333,
              "#9c179e"
             ],
             [
              0.4444444444444444,
              "#bd3786"
             ],
             [
              0.5555555555555556,
              "#d8576b"
             ],
             [
              0.6666666666666666,
              "#ed7953"
             ],
             [
              0.7777777777777778,
              "#fb9f3a"
             ],
             [
              0.8888888888888888,
              "#fdca26"
             ],
             [
              1,
              "#f0f921"
             ]
            ],
            "type": "histogram2d"
           }
          ],
          "histogram2dcontour": [
           {
            "colorbar": {
             "outlinewidth": 0,
             "ticks": ""
            },
            "colorscale": [
             [
              0,
              "#0d0887"
             ],
             [
              0.1111111111111111,
              "#46039f"
             ],
             [
              0.2222222222222222,
              "#7201a8"
             ],
             [
              0.3333333333333333,
              "#9c179e"
             ],
             [
              0.4444444444444444,
              "#bd3786"
             ],
             [
              0.5555555555555556,
              "#d8576b"
             ],
             [
              0.6666666666666666,
              "#ed7953"
             ],
             [
              0.7777777777777778,
              "#fb9f3a"
             ],
             [
              0.8888888888888888,
              "#fdca26"
             ],
             [
              1,
              "#f0f921"
             ]
            ],
            "type": "histogram2dcontour"
           }
          ],
          "mesh3d": [
           {
            "colorbar": {
             "outlinewidth": 0,
             "ticks": ""
            },
            "type": "mesh3d"
           }
          ],
          "parcoords": [
           {
            "line": {
             "colorbar": {
              "outlinewidth": 0,
              "ticks": ""
             }
            },
            "type": "parcoords"
           }
          ],
          "pie": [
           {
            "automargin": true,
            "type": "pie"
           }
          ],
          "scatter": [
           {
            "fillpattern": {
             "fillmode": "overlay",
             "size": 10,
             "solidity": 0.2
            },
            "type": "scatter"
           }
          ],
          "scatter3d": [
           {
            "line": {
             "colorbar": {
              "outlinewidth": 0,
              "ticks": ""
             }
            },
            "marker": {
             "colorbar": {
              "outlinewidth": 0,
              "ticks": ""
             }
            },
            "type": "scatter3d"
           }
          ],
          "scattercarpet": [
           {
            "marker": {
             "colorbar": {
              "outlinewidth": 0,
              "ticks": ""
             }
            },
            "type": "scattercarpet"
           }
          ],
          "scattergeo": [
           {
            "marker": {
             "colorbar": {
              "outlinewidth": 0,
              "ticks": ""
             }
            },
            "type": "scattergeo"
           }
          ],
          "scattergl": [
           {
            "marker": {
             "colorbar": {
              "outlinewidth": 0,
              "ticks": ""
             }
            },
            "type": "scattergl"
           }
          ],
          "scattermapbox": [
           {
            "marker": {
             "colorbar": {
              "outlinewidth": 0,
              "ticks": ""
             }
            },
            "type": "scattermapbox"
           }
          ],
          "scatterpolar": [
           {
            "marker": {
             "colorbar": {
              "outlinewidth": 0,
              "ticks": ""
             }
            },
            "type": "scatterpolar"
           }
          ],
          "scatterpolargl": [
           {
            "marker": {
             "colorbar": {
              "outlinewidth": 0,
              "ticks": ""
             }
            },
            "type": "scatterpolargl"
           }
          ],
          "scatterternary": [
           {
            "marker": {
             "colorbar": {
              "outlinewidth": 0,
              "ticks": ""
             }
            },
            "type": "scatterternary"
           }
          ],
          "surface": [
           {
            "colorbar": {
             "outlinewidth": 0,
             "ticks": ""
            },
            "colorscale": [
             [
              0,
              "#0d0887"
             ],
             [
              0.1111111111111111,
              "#46039f"
             ],
             [
              0.2222222222222222,
              "#7201a8"
             ],
             [
              0.3333333333333333,
              "#9c179e"
             ],
             [
              0.4444444444444444,
              "#bd3786"
             ],
             [
              0.5555555555555556,
              "#d8576b"
             ],
             [
              0.6666666666666666,
              "#ed7953"
             ],
             [
              0.7777777777777778,
              "#fb9f3a"
             ],
             [
              0.8888888888888888,
              "#fdca26"
             ],
             [
              1,
              "#f0f921"
             ]
            ],
            "type": "surface"
           }
          ],
          "table": [
           {
            "cells": {
             "fill": {
              "color": "#EBF0F8"
             },
             "line": {
              "color": "white"
             }
            },
            "header": {
             "fill": {
              "color": "#C8D4E3"
             },
             "line": {
              "color": "white"
             }
            },
            "type": "table"
           }
          ]
         },
         "layout": {
          "annotationdefaults": {
           "arrowcolor": "#2a3f5f",
           "arrowhead": 0,
           "arrowwidth": 1
          },
          "autotypenumbers": "strict",
          "coloraxis": {
           "colorbar": {
            "outlinewidth": 0,
            "ticks": ""
           }
          },
          "colorscale": {
           "diverging": [
            [
             0,
             "#8e0152"
            ],
            [
             0.1,
             "#c51b7d"
            ],
            [
             0.2,
             "#de77ae"
            ],
            [
             0.3,
             "#f1b6da"
            ],
            [
             0.4,
             "#fde0ef"
            ],
            [
             0.5,
             "#f7f7f7"
            ],
            [
             0.6,
             "#e6f5d0"
            ],
            [
             0.7,
             "#b8e186"
            ],
            [
             0.8,
             "#7fbc41"
            ],
            [
             0.9,
             "#4d9221"
            ],
            [
             1,
             "#276419"
            ]
           ],
           "sequential": [
            [
             0,
             "#0d0887"
            ],
            [
             0.1111111111111111,
             "#46039f"
            ],
            [
             0.2222222222222222,
             "#7201a8"
            ],
            [
             0.3333333333333333,
             "#9c179e"
            ],
            [
             0.4444444444444444,
             "#bd3786"
            ],
            [
             0.5555555555555556,
             "#d8576b"
            ],
            [
             0.6666666666666666,
             "#ed7953"
            ],
            [
             0.7777777777777778,
             "#fb9f3a"
            ],
            [
             0.8888888888888888,
             "#fdca26"
            ],
            [
             1,
             "#f0f921"
            ]
           ],
           "sequentialminus": [
            [
             0,
             "#0d0887"
            ],
            [
             0.1111111111111111,
             "#46039f"
            ],
            [
             0.2222222222222222,
             "#7201a8"
            ],
            [
             0.3333333333333333,
             "#9c179e"
            ],
            [
             0.4444444444444444,
             "#bd3786"
            ],
            [
             0.5555555555555556,
             "#d8576b"
            ],
            [
             0.6666666666666666,
             "#ed7953"
            ],
            [
             0.7777777777777778,
             "#fb9f3a"
            ],
            [
             0.8888888888888888,
             "#fdca26"
            ],
            [
             1,
             "#f0f921"
            ]
           ]
          },
          "colorway": [
           "#636efa",
           "#EF553B",
           "#00cc96",
           "#ab63fa",
           "#FFA15A",
           "#19d3f3",
           "#FF6692",
           "#B6E880",
           "#FF97FF",
           "#FECB52"
          ],
          "font": {
           "color": "#2a3f5f"
          },
          "geo": {
           "bgcolor": "white",
           "lakecolor": "white",
           "landcolor": "#E5ECF6",
           "showlakes": true,
           "showland": true,
           "subunitcolor": "white"
          },
          "hoverlabel": {
           "align": "left"
          },
          "hovermode": "closest",
          "mapbox": {
           "style": "light"
          },
          "paper_bgcolor": "white",
          "plot_bgcolor": "#E5ECF6",
          "polar": {
           "angularaxis": {
            "gridcolor": "white",
            "linecolor": "white",
            "ticks": ""
           },
           "bgcolor": "#E5ECF6",
           "radialaxis": {
            "gridcolor": "white",
            "linecolor": "white",
            "ticks": ""
           }
          },
          "scene": {
           "xaxis": {
            "backgroundcolor": "#E5ECF6",
            "gridcolor": "white",
            "gridwidth": 2,
            "linecolor": "white",
            "showbackground": true,
            "ticks": "",
            "zerolinecolor": "white"
           },
           "yaxis": {
            "backgroundcolor": "#E5ECF6",
            "gridcolor": "white",
            "gridwidth": 2,
            "linecolor": "white",
            "showbackground": true,
            "ticks": "",
            "zerolinecolor": "white"
           },
           "zaxis": {
            "backgroundcolor": "#E5ECF6",
            "gridcolor": "white",
            "gridwidth": 2,
            "linecolor": "white",
            "showbackground": true,
            "ticks": "",
            "zerolinecolor": "white"
           }
          },
          "shapedefaults": {
           "line": {
            "color": "#2a3f5f"
           }
          },
          "ternary": {
           "aaxis": {
            "gridcolor": "white",
            "linecolor": "white",
            "ticks": ""
           },
           "baxis": {
            "gridcolor": "white",
            "linecolor": "white",
            "ticks": ""
           },
           "bgcolor": "#E5ECF6",
           "caxis": {
            "gridcolor": "white",
            "linecolor": "white",
            "ticks": ""
           }
          },
          "title": {
           "x": 0.05
          },
          "xaxis": {
           "automargin": true,
           "gridcolor": "white",
           "linecolor": "white",
           "ticks": "",
           "title": {
            "standoff": 15
           },
           "zerolinecolor": "white",
           "zerolinewidth": 2
          },
          "yaxis": {
           "automargin": true,
           "gridcolor": "white",
           "linecolor": "white",
           "ticks": "",
           "title": {
            "standoff": 15
           },
           "zerolinecolor": "white",
           "zerolinewidth": 2
          }
         }
        },
        "title": {
         "text": "Factor Analysis-Correlation Matrix Heatmap"
        },
        "xaxis": {
         "anchor": "y",
         "constrain": "domain",
         "domain": [
          0,
          1
         ],
         "scaleanchor": "y"
        },
        "yaxis": {
         "anchor": "x",
         "autorange": "reversed",
         "constrain": "domain",
         "domain": [
          0,
          1
         ]
        }
       }
      }
     },
     "metadata": {},
     "output_type": "display_data"
    }
   ],
   "source": [
    "# Calculate the correlation matrix\n",
    "correlation_matrix = factors.corr()\n",
    "\n",
    "# Plot the heatmap using Plotly\n",
    "fig = px.imshow(correlation_matrix, \n",
    "                labels=dict(color=\"Correlation\"),\n",
    "                x=correlation_matrix.columns,\n",
    "                y=correlation_matrix.columns,\n",
    "                color_continuous_scale='Viridis')\n",
    "\n",
    "fig.update_layout(title='Factor Analysis-Correlation Matrix Heatmap')\n",
    "fig.show()"
   ]
  },
  {
   "cell_type": "code",
   "execution_count": 98,
   "metadata": {},
   "outputs": [
    {
     "data": {
      "text/html": [
       "<div>\n",
       "<style scoped>\n",
       "    .dataframe tbody tr th:only-of-type {\n",
       "        vertical-align: middle;\n",
       "    }\n",
       "\n",
       "    .dataframe tbody tr th {\n",
       "        vertical-align: top;\n",
       "    }\n",
       "\n",
       "    .dataframe thead th {\n",
       "        text-align: right;\n",
       "    }\n",
       "</style>\n",
       "<table border=\"1\" class=\"dataframe\">\n",
       "  <thead>\n",
       "    <tr style=\"text-align: right;\">\n",
       "      <th></th>\n",
       "      <th>Nutritional value</th>\n",
       "      <th>Shelf-life</th>\n",
       "      <th>Price</th>\n",
       "      <th>Packaging design</th>\n",
       "      <th>Brand trust</th>\n",
       "      <th>Convenience</th>\n",
       "    </tr>\n",
       "  </thead>\n",
       "  <tbody>\n",
       "    <tr>\n",
       "      <th>Nutritional value</th>\n",
       "      <td>1.000000</td>\n",
       "      <td>0.484111</td>\n",
       "      <td>0.336580</td>\n",
       "      <td>0.209671</td>\n",
       "      <td>0.525957</td>\n",
       "      <td>0.201327</td>\n",
       "    </tr>\n",
       "    <tr>\n",
       "      <th>Shelf-life</th>\n",
       "      <td>0.484111</td>\n",
       "      <td>1.000000</td>\n",
       "      <td>0.627126</td>\n",
       "      <td>0.211179</td>\n",
       "      <td>0.497577</td>\n",
       "      <td>0.415672</td>\n",
       "    </tr>\n",
       "    <tr>\n",
       "      <th>Price</th>\n",
       "      <td>0.336580</td>\n",
       "      <td>0.627126</td>\n",
       "      <td>1.000000</td>\n",
       "      <td>0.078632</td>\n",
       "      <td>0.531110</td>\n",
       "      <td>0.492729</td>\n",
       "    </tr>\n",
       "    <tr>\n",
       "      <th>Packaging design</th>\n",
       "      <td>0.209671</td>\n",
       "      <td>0.211179</td>\n",
       "      <td>0.078632</td>\n",
       "      <td>1.000000</td>\n",
       "      <td>0.289638</td>\n",
       "      <td>0.176582</td>\n",
       "    </tr>\n",
       "    <tr>\n",
       "      <th>Brand trust</th>\n",
       "      <td>0.525957</td>\n",
       "      <td>0.497577</td>\n",
       "      <td>0.531110</td>\n",
       "      <td>0.289638</td>\n",
       "      <td>1.000000</td>\n",
       "      <td>0.463708</td>\n",
       "    </tr>\n",
       "    <tr>\n",
       "      <th>Convenience</th>\n",
       "      <td>0.201327</td>\n",
       "      <td>0.415672</td>\n",
       "      <td>0.492729</td>\n",
       "      <td>0.176582</td>\n",
       "      <td>0.463708</td>\n",
       "      <td>1.000000</td>\n",
       "    </tr>\n",
       "  </tbody>\n",
       "</table>\n",
       "</div>"
      ],
      "text/plain": [
       "                   Nutritional value  Shelf-life     Price  Packaging design  \\\n",
       "Nutritional value           1.000000    0.484111  0.336580          0.209671   \n",
       "Shelf-life                  0.484111    1.000000  0.627126          0.211179   \n",
       "Price                       0.336580    0.627126  1.000000          0.078632   \n",
       "Packaging design            0.209671    0.211179  0.078632          1.000000   \n",
       "Brand trust                 0.525957    0.497577  0.531110          0.289638   \n",
       "Convenience                 0.201327    0.415672  0.492729          0.176582   \n",
       "\n",
       "                   Brand trust  Convenience  \n",
       "Nutritional value     0.525957     0.201327  \n",
       "Shelf-life            0.497577     0.415672  \n",
       "Price                 0.531110     0.492729  \n",
       "Packaging design      0.289638     0.176582  \n",
       "Brand trust           1.000000     0.463708  \n",
       "Convenience           0.463708     1.000000  "
      ]
     },
     "execution_count": 98,
     "metadata": {},
     "output_type": "execute_result"
    }
   ],
   "source": [
    "correlation_matrix"
   ]
  },
  {
   "cell_type": "raw",
   "metadata": {
    "vscode": {
     "languageId": "raw"
    }
   },
   "source": [
    "Refer: https://www.analyticsvidhya.com/blog/2020/10/dimensionality-reduction-using-factor-analysis-in-python/"
   ]
  },
  {
   "cell_type": "code",
   "execution_count": 99,
   "metadata": {},
   "outputs": [],
   "source": [
    "import factor_analyzer\n",
    "from factor_analyzer.factor_analyzer import calculate_kmo\n",
    "kmo_vars,kmo_model = calculate_kmo(factors)"
   ]
  },
  {
   "cell_type": "code",
   "execution_count": 100,
   "metadata": {},
   "outputs": [
    {
     "data": {
      "text/plain": [
       "0.7610091991824979"
      ]
     },
     "execution_count": 100,
     "metadata": {},
     "output_type": "execute_result"
    }
   ],
   "source": [
    "kmo_model"
   ]
  },
  {
   "cell_type": "code",
   "execution_count": 101,
   "metadata": {},
   "outputs": [
    {
     "data": {
      "text/plain": [
       "array([0.73342426, 0.76789394, 0.73744723, 0.70511959, 0.77574191,\n",
       "       0.81391991])"
      ]
     },
     "execution_count": 101,
     "metadata": {},
     "output_type": "execute_result"
    }
   ],
   "source": [
    "kmo_vars"
   ]
  },
  {
   "cell_type": "code",
   "execution_count": 102,
   "metadata": {},
   "outputs": [
    {
     "name": "stdout",
     "output_type": "stream",
     "text": [
      "Chi squared value :  197.63505321043615\n",
      "p value :  6.42107375270824e-34\n"
     ]
    }
   ],
   "source": [
    "from factor_analyzer.factor_analyzer import calculate_bartlett_sphericity\n",
    "chi2,p = calculate_bartlett_sphericity(factors)\n",
    "print(\"Chi squared value : \",chi2)\n",
    "print(\"p value : \",p)"
   ]
  },
  {
   "cell_type": "code",
   "execution_count": 120,
   "metadata": {},
   "outputs": [
    {
     "data": {
      "image/png": "[encoded data removed]",
      "text/plain": [
       "<Figure size 640x480 with 1 Axes>"
      ]
     },
     "metadata": {},
     "output_type": "display_data"
    }
   ],
   "source": [
    "from factor_analyzer import FactorAnalyzer\n",
    "fa = FactorAnalyzer(rotation = None,method='principal',impute = \"drop\",n_factors=factors.shape[1])\n",
    "fa.fit(factors)\n",
    "ev,_ = fa.get_eigenvalues()\n",
    "plt.scatter(range(1,factors.shape[1]+1),ev)\n",
    "plt.plot(range(1,factors.shape[1]+1),ev)\n",
    "plt.title('Scree Plot')\n",
    "plt.xlabel('Factors')\n",
    "plt.ylabel('Eigen Value')\n",
    "plt.grid()"
   ]
  },
  {
   "cell_type": "code",
   "execution_count": 123,
   "metadata": {},
   "outputs": [
    {
     "data": {
      "image/png": "[encoded data removed]",
      "text/plain": [
       "<Figure size 1000x600 with 1 Axes>"
      ]
     },
     "metadata": {},
     "output_type": "display_data"
    }
   ],
   "source": [
    "from factor_analyzer import FactorAnalyzer\n",
    "\n",
    "import matplotlib.pyplot as plt\n",
    "\n",
    "# Initialize the FactorAnalyzer with PCA method\n",
    "fa = FactorAnalyzer(rotation=None, method='principal', n_factors=factors.shape[1])\n",
    "fa.fit(factors)\n",
    "\n",
    "# Get eigenvalues\n",
    "ev, _ = fa.get_eigenvalues()\n",
    "\n",
    "# Create scree plot\n",
    "plt.figure(figsize=(10, 6))\n",
    "plt.scatter(range(1, factors.shape[1] + 1), ev)\n",
    "plt.plot(range(1, factors.shape[1] + 1), ev, marker='o')\n",
    "plt.title('Scree Plot')\n",
    "plt.xlabel('Factors')\n",
    "plt.ylabel('Eigenvalue')\n",
    "plt.grid()\n",
    "plt.show()"
   ]
  },
  {
   "cell_type": "code",
   "execution_count": 119,
   "metadata": {},
   "outputs": [
    {
     "name": "stdout",
     "output_type": "stream",
     "text": [
      "\u001b[1;31mInit signature:\u001b[0m\n",
      "\u001b[0mFactorAnalyzer\u001b[0m\u001b[1;33m(\u001b[0m\u001b[1;33m\n",
      "\u001b[0m    \u001b[0mn_factors\u001b[0m\u001b[1;33m=\u001b[0m\u001b[1;36m3\u001b[0m\u001b[1;33m,\u001b[0m\u001b[1;33m\n",
      "\u001b[0m    \u001b[0mrotation\u001b[0m\u001b[1;33m=\u001b[0m\u001b[1;34m'promax'\u001b[0m\u001b[1;33m,\u001b[0m\u001b[1;33m\n",
      "\u001b[0m    \u001b[0mmethod\u001b[0m\u001b[1;33m=\u001b[0m\u001b[1;34m'minres'\u001b[0m\u001b[1;33m,\u001b[0m\u001b[1;33m\n",
      "\u001b[0m    \u001b[0muse_smc\u001b[0m\u001b[1;33m=\u001b[0m\u001b[1;32mTrue\u001b[0m\u001b[1;33m,\u001b[0m\u001b[1;33m\n",
      "\u001b[0m    \u001b[0mis_corr_matrix\u001b[0m\u001b[1;33m=\u001b[0m\u001b[1;32mFalse\u001b[0m\u001b[1;33m,\u001b[0m\u001b[1;33m\n",
      "\u001b[0m    \u001b[0mbounds\u001b[0m\u001b[1;33m=\u001b[0m\u001b[1;33m(\u001b[0m\u001b[1;36m0.005\u001b[0m\u001b[1;33m,\u001b[0m \u001b[1;36m1\u001b[0m\u001b[1;33m)\u001b[0m\u001b[1;33m,\u001b[0m\u001b[1;33m\n",
      "\u001b[0m    \u001b[0mimpute\u001b[0m\u001b[1;33m=\u001b[0m\u001b[1;34m'median'\u001b[0m\u001b[1;33m,\u001b[0m\u001b[1;33m\n",
      "\u001b[0m    \u001b[0msvd_method\u001b[0m\u001b[1;33m=\u001b[0m\u001b[1;34m'randomized'\u001b[0m\u001b[1;33m,\u001b[0m\u001b[1;33m\n",
      "\u001b[0m    \u001b[0mrotation_kwargs\u001b[0m\u001b[1;33m=\u001b[0m\u001b[1;32mNone\u001b[0m\u001b[1;33m,\u001b[0m\u001b[1;33m\n",
      "\u001b[0m\u001b[1;33m)\u001b[0m\u001b[1;33m\u001b[0m\u001b[1;33m\u001b[0m\u001b[0m\n",
      "\u001b[1;31mDocstring:\u001b[0m     \n",
      "The main exploratory factor analysis class.\n",
      "\n",
      "This class:\n",
      "    (1) Fits a factor analysis model using minres, maximum likelihood,\n",
      "        or principal factor extraction and returns the loading matrix\n",
      "    (2) Optionally performs a rotation, with method including:\n",
      "\n",
      "        (a) varimax (orthogonal rotation)\n",
      "        (b) promax (oblique rotation)\n",
      "        (c) oblimin (oblique rotation)\n",
      "        (d) oblimax (orthogonal rotation)\n",
      "        (e) quartimin (oblique rotation)\n",
      "        (f) quartimax (orthogonal rotation)\n",
      "        (g) equamax (orthogonal rotation)\n",
      "\n",
      "Parameters\n",
      "----------\n",
      "n_factors : int, optional\n",
      "    The number of factors to select.\n",
      "    Defaults to 3.\n",
      "rotation : str, optional\n",
      "    The type of rotation to perform after fitting the factor analysis\n",
      "    model. If set to ``None``, no rotation will be performed, nor will\n",
      "    any associated Kaiser normalization.\n",
      "\n",
      "    Possible values include:\n",
      "\n",
      "        (a) varimax (orthogonal rotation)\n",
      "        (b) promax (oblique rotation)\n",
      "        (c) oblimin (oblique rotation)\n",
      "        (d) oblimax (orthogonal rotation)\n",
      "        (e) quartimin (oblique rotation)\n",
      "        (f) quartimax (orthogonal rotation)\n",
      "        (g) equamax (orthogonal rotation)\n",
      "\n",
      "    Defaults to 'promax'.\n",
      "\n",
      "method : {'minres', 'ml', 'principal'}, optional\n",
      "    The fitting method to use, either MINRES or Maximum Likelihood.\n",
      "    Defaults to 'minres'.\n",
      "use_smc : bool, optional\n",
      "    Whether to use squared multiple correlation as starting guesses for\n",
      "    factor analysis.\n",
      "    Defaults to ``True``.\n",
      "bounds : tuple, optional\n",
      "    The lower and upper bounds on the variables for \"L-BFGS-B\" optimization.\n",
      "    Defaults to (0.005, 1).\n",
      "impute : {'drop', 'mean', 'median'}, optional\n",
      "    How to handle missing values, if any, in the data: (a) use list-wise\n",
      "    deletion ('drop'), or (b) impute the column median ('median'), or\n",
      "    impute the column mean ('mean').\n",
      "    Defaults to 'median'\n",
      "is_corr_matrix : bool, optional\n",
      "    Set to ``True if the ``data`` is the correlation matrix.\n",
      "    Defaults to `False`.\n",
      "svd_method : {‘lapack’, ‘randomized’}\n",
      "    The SVD method to use when ``method`` is 'principal'. If 'lapack',\n",
      "    use standard SVD from ``scipy.linalg``. If 'randomized', use faster\n",
      "    ``randomized_svd`` function from scikit-learn. The latter should only\n",
      "    be used if the number of columns is greater than or equal to the\n",
      "    number of rows in in the dataset.\n",
      "    Defaults to 'randomized'\n",
      "rotation_kwargs, optional\n",
      "    Dictionary containing keyword arguments for the rotation method.\n",
      "\n",
      "Attributes\n",
      "----------\n",
      "loadings_ : :obj:`numpy.ndarray`\n",
      "    The factor loadings matrix.\n",
      "    ``None``, if ``fit()``` has not been called.\n",
      "corr_ : :obj:`numpy.ndarray`\n",
      "    The original correlation matrix.\n",
      "    ``None``, if ``fit()`` has not been called.\n",
      "rotation_matrix_ : :obj:`numpy.ndarray`\n",
      "    The rotation matrix, if a rotation has been performed. ``None`` otherwise.\n",
      "structure_ : :obj:`numpy.ndarray` or None\n",
      "    The structure loading matrix. This only exists if ``rotation``\n",
      "    is 'promax' and is ``None`` otherwise.\n",
      "phi_ : :obj:`numpy.ndarray` or None\n",
      "    The factor correlations matrix. This only exists if ``rotation``\n",
      "    is 'oblique' and is ``None`` otherwise.\n",
      "\n",
      "Notes\n",
      "-----\n",
      "This code was partly derived from the excellent R package `psych`.\n",
      "\n",
      "References\n",
      "----------\n",
      "[1] https://github.com/cran/psych/blob/master/R/fa.R\n",
      "\n",
      "Examples\n",
      "--------\n",
      ">>> import pandas as pd\n",
      ">>> from factor_analyzer import FactorAnalyzer\n",
      ">>> df_features = pd.read_csv('tests/data/test02.csv')\n",
      ">>> fa = FactorAnalyzer(rotation=None)\n",
      ">>> fa.fit(df_features)\n",
      "FactorAnalyzer(bounds=(0.005, 1), impute='median', is_corr_matrix=False,\n",
      "        method='minres', n_factors=3, rotation=None, rotation_kwargs={},\n",
      "        use_smc=True)\n",
      ">>> fa.loadings_\n",
      "array([[-0.12991218,  0.16398154,  0.73823498],\n",
      "       [ 0.03899558,  0.04658425,  0.01150343],\n",
      "       [ 0.34874135,  0.61452341, -0.07255667],\n",
      "       [ 0.45318006,  0.71926681, -0.07546472],\n",
      "       [ 0.36688794,  0.44377343, -0.01737067],\n",
      "       [ 0.74141382, -0.15008235,  0.29977512],\n",
      "       [ 0.741675  , -0.16123009, -0.20744495],\n",
      "       [ 0.82910167, -0.20519428,  0.04930817],\n",
      "       [ 0.76041819, -0.23768727, -0.1206858 ],\n",
      "       [ 0.81533404, -0.12494695,  0.17639683]])\n",
      ">>> fa.get_communalities()\n",
      "array([0.588758  , 0.00382308, 0.50452402, 0.72841183, 0.33184336,\n",
      "       0.66208428, 0.61911036, 0.73194557, 0.64929612, 0.71149718])\n",
      "\u001b[1;31mInit docstring:\u001b[0m Initialize the factor analyzer.\n",
      "\u001b[1;31mFile:\u001b[0m           c:\\users\\acer\\anaconda3\\envs\\ml3\\lib\\site-packages\\factor_analyzer\\factor_analyzer.py\n",
      "\u001b[1;31mType:\u001b[0m           type\n",
      "\u001b[1;31mSubclasses:\u001b[0m     "
     ]
    }
   ],
   "source": [
    "FactorAnalyzer?"
   ]
  },
  {
   "cell_type": "code",
   "execution_count": 124,
   "metadata": {},
   "outputs": [
    {
     "data": {
      "text/plain": [
       "array([2.94634806, 0.97824581, 0.80806205, 0.54590271, 0.42063233,\n",
       "       0.30080905])"
      ]
     },
     "execution_count": 124,
     "metadata": {},
     "output_type": "execute_result"
    }
   ],
   "source": [
    "ev"
   ]
  },
  {
   "cell_type": "raw",
   "metadata": {
    "vscode": {
     "languageId": "raw"
    }
   },
   "source": [
    "//ideally 1 factor. Eigen Value > 1 is only one factor. Taking 2 for now"
   ]
  },
  {
   "cell_type": "code",
   "execution_count": 125,
   "metadata": {},
   "outputs": [
    {
     "name": "stdout",
     "output_type": "stream",
     "text": [
      "                          0         1\n",
      "Nutritional value  0.265486  0.585582\n",
      "Shelf-life         0.570498  0.459392\n",
      "Price              0.991823  0.119219\n",
      "Packaging design   0.050044  0.386774\n",
      "Brand trust        0.448667  0.667737\n",
      "Convenience        0.469383  0.295907\n"
     ]
    }
   ],
   "source": [
    "#rotated_component_matrix\n",
    "fa = FactorAnalyzer(n_factors=2,rotation='varimax')\n",
    "fa.fit(factors)\n",
    "print(pd.DataFrame(fa.loadings_,index=factors.columns))"
   ]
  },
  {
   "cell_type": "raw",
   "metadata": {
    "vscode": {
     "languageId": "raw"
    }
   },
   "source": [
    "Nutritional value,Brand trust :  Important in factor 1\n",
    "Price : Important in factor 0\n",
    "threshold > 0.6"
   ]
  },
  {
   "cell_type": "code",
   "execution_count": 126,
   "metadata": {},
   "outputs": [
    {
     "name": "stdout",
     "output_type": "stream",
     "text": [
      "                         0         1\n",
      "Variance          1.803790  1.251188\n",
      "Proportional Var  0.300632  0.208531\n",
      "Cumulative Var    0.300632  0.509163\n"
     ]
    }
   ],
   "source": [
    "print(pd.DataFrame(fa.get_factor_variance(),index=['Variance','Proportional Var','Cumulative Var']))"
   ]
  },
  {
   "cell_type": "code",
   "execution_count": 127,
   "metadata": {},
   "outputs": [
    {
     "name": "stdout",
     "output_type": "stream",
     "text": [
      "                   Communalities\n",
      "Nutritional value       0.413389\n",
      "Shelf-life              0.536509\n",
      "Price                   0.997926\n",
      "Packaging design        0.152099\n",
      "Brand trust             0.647174\n",
      "Convenience             0.307881\n"
     ]
    }
   ],
   "source": [
    "print(pd.DataFrame(fa.get_communalities(),index=factors.columns,columns=['Communalities']))"
   ]
  },
  {
   "cell_type": "raw",
   "metadata": {
    "vscode": {
     "languageId": "raw"
    }
   },
   "source": [
    "The two factors explain 98% of the variance in Price. Followed by  70% in Brand trust and 55% in Shelf-life"
   ]
  },
  {
   "cell_type": "code",
   "execution_count": 128,
   "metadata": {},
   "outputs": [
    {
     "name": "stdout",
     "output_type": "stream",
     "text": [
      "                          0         1\n",
      "Nutritional value  0.265486  0.585582\n",
      "Shelf-life         0.570498  0.459392\n",
      "Price              0.991823  0.119219\n",
      "Packaging design   0.050044  0.386774\n",
      "Brand trust        0.448667  0.667737\n",
      "Convenience        0.469383  0.295907\n"
     ]
    }
   ],
   "source": [
    "rotated_component_matrix = pd.DataFrame(fa.loadings_, index=factors.columns)\n",
    "print(rotated_component_matrix)"
   ]
  },
  {
   "cell_type": "markdown",
   "metadata": {},
   "source": [
    "### PCA"
   ]
  },
  {
   "cell_type": "raw",
   "metadata": {
    "vscode": {
     "languageId": "raw"
    }
   },
   "source": [
    "# Interest is Dependendent Variable"
   ]
  },
  {
   "cell_type": "code",
   "execution_count": 129,
   "metadata": {},
   "outputs": [
    {
     "data": {
      "text/plain": [
       "28"
      ]
     },
     "execution_count": 129,
     "metadata": {},
     "output_type": "execute_result"
    }
   ],
   "source": [
    "list(data.columns).index('Would you be interested in trying a small sample or trial pack of a protein-enhanced ready-to-cook roti?')"
   ]
  },
  {
   "cell_type": "code",
   "execution_count": 130,
   "metadata": {},
   "outputs": [],
   "source": [
    "interest = data.iloc[::, 28]"
   ]
  },
  {
   "cell_type": "code",
   "execution_count": 131,
   "metadata": {},
   "outputs": [
    {
     "name": "stderr",
     "output_type": "stream",
     "text": [
      "C:\\Users\\acer\\AppData\\Local\\Temp\\ipykernel_17260\\181251922.py:8: FutureWarning:\n",
      "\n",
      "Downcasting behavior in `replace` is deprecated and will be removed in a future version. To retain the old behavior, explicitly call `result.infer_objects(copy=False)`. To opt-in to the future behavior, set `pd.set_option('future.no_silent_downcasting', True)`\n",
      "\n"
     ]
    },
    {
     "data": {
      "text/plain": [
       "0    1.0\n",
       "1    0.0\n",
       "2    0.0\n",
       "3    1.0\n",
       "4    1.0\n",
       "Name: Would you be interested in trying a small sample or trial pack of a protein-enhanced ready-to-cook roti?, dtype: float64"
      ]
     },
     "execution_count": 131,
     "metadata": {},
     "output_type": "execute_result"
    }
   ],
   "source": [
    "mapping = {\n",
    "    'Yes': 1,\n",
    "    'No': 0,\n",
    "    'Maybe': 0.5\n",
    "}\n",
    "\n",
    "# Apply the mapping to the dataframe\n",
    "interest = interest.replace(mapping)\n",
    "interest.head()"
   ]
  },
  {
   "cell_type": "code",
   "execution_count": 132,
   "metadata": {},
   "outputs": [],
   "source": [
    "y = interest.values"
   ]
  },
  {
   "cell_type": "code",
   "execution_count": 133,
   "metadata": {},
   "outputs": [
    {
     "data": {
      "text/html": [
       "<div>\n",
       "<style scoped>\n",
       "    .dataframe tbody tr th:only-of-type {\n",
       "        vertical-align: middle;\n",
       "    }\n",
       "\n",
       "    .dataframe tbody tr th {\n",
       "        vertical-align: top;\n",
       "    }\n",
       "\n",
       "    .dataframe thead th {\n",
       "        text-align: right;\n",
       "    }\n",
       "</style>\n",
       "<table border=\"1\" class=\"dataframe\">\n",
       "  <thead>\n",
       "    <tr style=\"text-align: right;\">\n",
       "      <th></th>\n",
       "      <th>Nutritional value</th>\n",
       "      <th>Shelf-life</th>\n",
       "      <th>Price</th>\n",
       "      <th>Packaging design</th>\n",
       "      <th>Brand trust</th>\n",
       "      <th>Convenience</th>\n",
       "    </tr>\n",
       "  </thead>\n",
       "  <tbody>\n",
       "    <tr>\n",
       "      <th>0</th>\n",
       "      <td>3</td>\n",
       "      <td>4</td>\n",
       "      <td>3</td>\n",
       "      <td>1</td>\n",
       "      <td>2</td>\n",
       "      <td>4</td>\n",
       "    </tr>\n",
       "    <tr>\n",
       "      <th>1</th>\n",
       "      <td>1</td>\n",
       "      <td>1</td>\n",
       "      <td>1</td>\n",
       "      <td>1</td>\n",
       "      <td>1</td>\n",
       "      <td>1</td>\n",
       "    </tr>\n",
       "    <tr>\n",
       "      <th>2</th>\n",
       "      <td>4</td>\n",
       "      <td>3</td>\n",
       "      <td>3</td>\n",
       "      <td>3</td>\n",
       "      <td>4</td>\n",
       "      <td>4</td>\n",
       "    </tr>\n",
       "    <tr>\n",
       "      <th>3</th>\n",
       "      <td>5</td>\n",
       "      <td>4</td>\n",
       "      <td>3</td>\n",
       "      <td>5</td>\n",
       "      <td>3</td>\n",
       "      <td>3</td>\n",
       "    </tr>\n",
       "    <tr>\n",
       "      <th>4</th>\n",
       "      <td>1</td>\n",
       "      <td>2</td>\n",
       "      <td>3</td>\n",
       "      <td>3</td>\n",
       "      <td>3</td>\n",
       "      <td>5</td>\n",
       "    </tr>\n",
       "    <tr>\n",
       "      <th>...</th>\n",
       "      <td>...</td>\n",
       "      <td>...</td>\n",
       "      <td>...</td>\n",
       "      <td>...</td>\n",
       "      <td>...</td>\n",
       "      <td>...</td>\n",
       "    </tr>\n",
       "    <tr>\n",
       "      <th>107</th>\n",
       "      <td>5</td>\n",
       "      <td>5</td>\n",
       "      <td>5</td>\n",
       "      <td>4</td>\n",
       "      <td>4</td>\n",
       "      <td>4</td>\n",
       "    </tr>\n",
       "    <tr>\n",
       "      <th>108</th>\n",
       "      <td>5</td>\n",
       "      <td>4</td>\n",
       "      <td>3</td>\n",
       "      <td>2</td>\n",
       "      <td>2</td>\n",
       "      <td>4</td>\n",
       "    </tr>\n",
       "    <tr>\n",
       "      <th>109</th>\n",
       "      <td>3</td>\n",
       "      <td>4</td>\n",
       "      <td>4</td>\n",
       "      <td>2</td>\n",
       "      <td>5</td>\n",
       "      <td>4</td>\n",
       "    </tr>\n",
       "    <tr>\n",
       "      <th>110</th>\n",
       "      <td>5</td>\n",
       "      <td>4</td>\n",
       "      <td>4</td>\n",
       "      <td>3</td>\n",
       "      <td>4</td>\n",
       "      <td>4</td>\n",
       "    </tr>\n",
       "    <tr>\n",
       "      <th>111</th>\n",
       "      <td>2</td>\n",
       "      <td>2</td>\n",
       "      <td>4</td>\n",
       "      <td>4</td>\n",
       "      <td>5</td>\n",
       "      <td>5</td>\n",
       "    </tr>\n",
       "  </tbody>\n",
       "</table>\n",
       "<p>112 rows × 6 columns</p>\n",
       "</div>"
      ],
      "text/plain": [
       "     Nutritional value  Shelf-life  Price  Packaging design  Brand trust  \\\n",
       "0                    3           4      3                 1            2   \n",
       "1                    1           1      1                 1            1   \n",
       "2                    4           3      3                 3            4   \n",
       "3                    5           4      3                 5            3   \n",
       "4                    1           2      3                 3            3   \n",
       "..                 ...         ...    ...               ...          ...   \n",
       "107                  5           5      5                 4            4   \n",
       "108                  5           4      3                 2            2   \n",
       "109                  3           4      4                 2            5   \n",
       "110                  5           4      4                 3            4   \n",
       "111                  2           2      4                 4            5   \n",
       "\n",
       "     Convenience  \n",
       "0              4  \n",
       "1              1  \n",
       "2              4  \n",
       "3              3  \n",
       "4              5  \n",
       "..           ...  \n",
       "107            4  \n",
       "108            4  \n",
       "109            4  \n",
       "110            4  \n",
       "111            5  \n",
       "\n",
       "[112 rows x 6 columns]"
      ]
     },
     "execution_count": 133,
     "metadata": {},
     "output_type": "execute_result"
    }
   ],
   "source": [
    "factors"
   ]
  },
  {
   "cell_type": "code",
   "execution_count": 142,
   "metadata": {},
   "outputs": [],
   "source": [
    "from sklearn.decomposition import PCA\n",
    "# Perform PCA to reduce the dimensionality to 2 components\n",
    "pca = PCA(n_components=2)\n",
    "reduced_data = pca.fit_transform(factors)"
   ]
  },
  {
   "cell_type": "code",
   "execution_count": 143,
   "metadata": {},
   "outputs": [
    {
     "name": "stdout",
     "output_type": "stream",
     "text": [
      "[3.83844571 1.26936548]\n"
     ]
    }
   ],
   "source": [
    "eigenvalues = pca.explained_variance_\n",
    "print(eigenvalues)"
   ]
  },
  {
   "cell_type": "code",
   "execution_count": 144,
   "metadata": {},
   "outputs": [
    {
     "data": {
      "text/plain": [
       "array([0.48817961, 0.16143991])"
      ]
     },
     "execution_count": 144,
     "metadata": {},
     "output_type": "execute_result"
    }
   ],
   "source": [
    "pca.explained_variance_ratio_"
   ]
  },
  {
   "cell_type": "code",
   "execution_count": 149,
   "metadata": {},
   "outputs": [
    {
     "data": {
      "text/plain": [
       "array([[-0.66453463,  0.23747019],\n",
       "       [-0.80734877, -0.11470813],\n",
       "       [-0.78062871, -0.38038193],\n",
       "       [-0.37216734,  0.83570776],\n",
       "       [-0.81310174,  0.096795  ],\n",
       "       [-0.6662624 , -0.23712574]])"
      ]
     },
     "execution_count": 149,
     "metadata": {},
     "output_type": "execute_result"
    }
   ],
   "source": [
    "fa._fit_principal(factors.values)"
   ]
  },
  {
   "cell_type": "markdown",
   "metadata": {},
   "source": [
    "### Regression"
   ]
  },
  {
   "cell_type": "code",
   "execution_count": 151,
   "metadata": {},
   "outputs": [],
   "source": [
    "X = reduced_data\n",
    "Y = y"
   ]
  },
  {
   "cell_type": "code",
   "execution_count": 152,
   "metadata": {},
   "outputs": [
    {
     "name": "stdout",
     "output_type": "stream",
     "text": [
      "                            OLS Regression Results                            \n",
      "==============================================================================\n",
      "Dep. Variable:                      y   R-squared:                       0.077\n",
      "Model:                            OLS   Adj. R-squared:                  0.060\n",
      "Method:                 Least Squares   F-statistic:                     4.540\n",
      "Date:                Thu, 27 Feb 2025   Prob (F-statistic):             0.0128\n",
      "Time:                        11:29:34   Log-Likelihood:                -29.929\n",
      "No. Observations:                 112   AIC:                             65.86\n",
      "Df Residuals:                     109   BIC:                             74.01\n",
      "Df Model:                           2                                         \n",
      "Covariance Type:            nonrobust                                         \n",
      "==============================================================================\n",
      "                 coef    std err          t      P>|t|      [0.025      0.975]\n",
      "------------------------------------------------------------------------------\n",
      "const          0.8080      0.030     26.689      0.000       0.748       0.868\n",
      "x1             0.0395      0.016      2.547      0.012       0.009       0.070\n",
      "x2            -0.0435      0.027     -1.611      0.110      -0.097       0.010\n",
      "==============================================================================\n",
      "Omnibus:                       23.808   Durbin-Watson:                   1.930\n",
      "Prob(Omnibus):                  0.000   Jarque-Bera (JB):               31.424\n",
      "Skew:                          -1.275   Prob(JB):                     1.50e-07\n",
      "Kurtosis:                       3.485   Cond. No.                         1.95\n",
      "==============================================================================\n",
      "\n",
      "Notes:\n",
      "[1] Standard Errors assume that the covariance matrix of the errors is correctly specified.\n"
     ]
    }
   ],
   "source": [
    "import statsmodels.api as sm\n",
    "from scipy import stats\n",
    "\n",
    "x = sm.add_constant(X)\n",
    "model = sm.OLS(Y, x)\n",
    "model = model.fit()\n",
    "print(model.summary())"
   ]
  },
  {
   "cell_type": "code",
   "execution_count": 153,
   "metadata": {},
   "outputs": [
    {
     "data": {
      "image/png": "[encoded data removed]",
      "text/plain": [
       "<Figure size 1000x600 with 1 Axes>"
      ]
     },
     "metadata": {},
     "output_type": "display_data"
    }
   ],
   "source": [
    "# Calculate the standardized residuals\n",
    "standardized_residuals = (model.resid - np.mean(model.resid)) / np.std(model.resid)\n",
    "\n",
    "# Plot the histogram\n",
    "plt.figure(figsize=(10, 6))\n",
    "plt.hist(standardized_residuals, bins=20, edgecolor='k', alpha=0.7)\n",
    "plt.xlabel('Regression Standardized Residuals')\n",
    "plt.ylabel('Frequency')\n",
    "plt.title('Histogram of Regression Standardized Residuals')\n",
    "\n",
    "# Calculate statistics\n",
    "mean_resid = np.mean(standardized_residuals)\n",
    "std_resid = np.std(standardized_residuals)\n",
    "num_data_points = len(standardized_residuals)\n",
    "\n",
    "# Add text box with statistics\n",
    "textstr = '\\n'.join((\n",
    "    f'Mean: {mean_resid:.2f}',\n",
    "    f'Standard Deviation: {std_resid:.2f}',\n",
    "    f'Number of Data Points: {num_data_points}'\n",
    "))\n",
    "\n",
    "# Place the text box in the plot\n",
    "props = dict(boxstyle='round', facecolor='wheat', alpha=0.5)\n",
    "plt.gca().text(0.95, 0.95, textstr, transform=plt.gca().transAxes, fontsize=12,\n",
    "               verticalalignment='top', horizontalalignment='right', bbox=props)\n",
    "\n",
    "plt.grid(True)\n",
    "plt.show()"
   ]
  },
  {
   "cell_type": "code",
   "execution_count": 154,
   "metadata": {},
   "outputs": [
    {
     "data": {
      "image/png": "[encoded data removed]",
      "text/plain": [
       "<Figure size 1000x600 with 1 Axes>"
      ]
     },
     "metadata": {},
     "output_type": "display_data"
    }
   ],
   "source": [
    "import scipy.stats as stats\n",
    "\n",
    "# Generate a Q-Q plot\n",
    "fig, ax = plt.subplots(figsize=(10, 6))\n",
    "stats.probplot(standardized_residuals, dist=\"norm\", plot=ax)\n",
    "ax.set_title('Q-Q Plot')\n",
    "ax.set_xlabel('Observed Cumulative Probability')\n",
    "ax.set_ylabel('Expected Cumulative Probability')\n",
    "plt.grid(True)\n",
    "plt.show()"
   ]
  },
  {
   "cell_type": "code",
   "execution_count": null,
   "metadata": {},
   "outputs": [],
   "source": []
  },
  {
   "cell_type": "code",
   "execution_count": null,
   "metadata": {},
   "outputs": [],
   "source": []
  }
 ],
 "metadata": {
  "kernelspec": {
   "display_name": "ml3",
   "language": "python",
   "name": "python3"
  },
  "language_info": {
   "codemirror_mode": {
    "name": "ipython",
    "version": 3
   },
   "file_extension": ".py",
   "mimetype": "text/x-python",
   "name": "python",
   "nbconvert_exporter": "python",
   "pygments_lexer": "ipython3",
   "version": "3.10.13"
  }
 },
 "nbformat": 4,
 "nbformat_minor": 2
}
